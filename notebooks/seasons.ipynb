{
 "cells": [
  {
   "cell_type": "code",
   "id": "initial_id",
   "metadata": {
    "collapsed": true,
    "ExecuteTime": {
     "end_time": "2025-07-12T08:53:08.380484Z",
     "start_time": "2025-07-12T08:53:08.191472Z"
    }
   },
   "source": [
    "from dotenv import load_dotenv\n",
    "\n",
    "from dialectical_framework.synthesist.factories.wheel_builder import WheelBuilder\n",
    "from dialectical_framework.synthesist.factories.config_wheel_builder import ConfigWheelBuilder\n",
    "\n",
    "# # Load environment variables from .env file\n",
    "# load_dotenv()\n",
    "\n",
    "um = \"Seasons of the year\"\n",
    "\n",
    "wbc = ConfigWheelBuilder(component_length=1)\n",
    "factory = WheelBuilder(\n",
    "    config=wbc,\n",
    "    text=um,\n",
    ")"
   ],
   "outputs": [],
   "execution_count": 20
  },
  {
   "metadata": {
    "ExecuteTime": {
     "end_time": "2025-07-12T08:53:32.589764Z",
     "start_time": "2025-07-12T08:53:08.556918Z"
    }
   },
   "cell_type": "code",
   "source": [
    "wheels = await factory.build_wheel_permutations(theses=[\"Summer\", \"Spring\"])\n",
    "for w in wheels:\n",
    "    print(w)"
   ],
   "id": "21b622d5410a34b9",
   "outputs": [
    {
     "name": "stdout",
     "output_type": "stream",
     "text": [
      "\n",
      "---\n",
      "['T1'] -> ['T2'] | Probability: 0.8\n",
      "T1 = Summer\n",
      "T2 = Spring\n",
      "Reasoning: Summer naturally transitions to Spring due to seasonal patterns governed by Earth's axial tilt and orbital position around the Sun. This cycle reflects the climate-dependent progression of warmer months transitioning back to cooler ones over time.\n",
      "Argumentation: This cycle is most applicable in geographic regions where seasonal changes follow a regular and prominent pattern. Its usefulness is particularly evident in agriculture, tourism planning, and natural resource management, which depend on predictable seasonal transitions.\n",
      "---\n",
      "\n",
      "---\n",
      "['T1'] -> ['T2'] -> ['A1'] -> ['A2'] | Probability: 1.0\n",
      "T1 = Summer\n",
      "T2 = Spring\n",
      "A1 = Winter\n",
      "A2 = Autumn\n",
      "Reasoning: \n",
      "Argumentation: \n",
      "---\n",
      "T1-  Heatwave   T2-  Fragility\n",
      "T1   Summer     T2   Spring\n",
      "T1+  Warmth     T2+  Renewal\n",
      "A1+  Cozy       A2+  Maturity\n",
      "A1   Winter     A2   Autumn\n",
      "A1-  Frostbite  A2-  Decay\n",
      "---\n",
      "\n",
      "---\n",
      "\n"
     ]
    }
   ],
   "execution_count": 21
  }
 ],
 "metadata": {
  "kernelspec": {
   "display_name": "Python 3",
   "language": "python",
   "name": "python3"
  },
  "language_info": {
   "codemirror_mode": {
    "name": "ipython",
    "version": 2
   },
   "file_extension": ".py",
   "mimetype": "text/x-python",
   "name": "python",
   "nbconvert_exporter": "python",
   "pygments_lexer": "ipython2",
   "version": "2.7.6"
  }
 },
 "nbformat": 4,
 "nbformat_minor": 5
}
