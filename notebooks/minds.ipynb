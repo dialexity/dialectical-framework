{
 "cells": [
  {
   "cell_type": "code",
   "id": "initial_id",
   "metadata": {
    "collapsed": true,
    "ExecuteTime": {
     "end_time": "2025-07-18T07:33:47.994177Z",
     "start_time": "2025-07-18T07:33:47.908959Z"
    }
   },
   "source": [
    "from dialectical_framework.synthesist.factories.wheel_builder import WheelBuilder\n",
    "from dialectical_framework.config import Config\n",
    "\n",
    "text  = \"\"\"\n",
    "In Sanskrit, the term \"four minds\" (or more accurately, four aspects of the inner instrument, antahkarana) refers to Manas, Buddhi, Ahamkara, and Chitta. While not four distinct minds, they are considered the four functions of the inner instrument that contribute to our perception and experience.\n",
    "Here's a breakdown:\n",
    "Manas (मनस्):\n",
    "This is often translated as the sensory mind, the part that receives and processes information from the senses. It's where initial perceptions and impressions are formed.\n",
    "Buddhi (बुद्धि):\n",
    "This refers to the intellect, wisdom, or discriminative faculty. It's the aspect of mind that analyzes, judges, and makes decisions based on the information received by Manas.\n",
    "Ahamkara (अहंकार):\n",
    "This is the ego or the sense of \"I-ness\" or individuality. It creates the sense of a separate self and is responsible for identifying with thoughts, feelings, and experiences.\n",
    "Chitta (चित्त):\n",
    "This is the memory or subconscious mind, where impressions, experiences, and past conditioning are stored. It acts as a repository for all that has been perceived and experienced.\n",
    "Together, these four aspects of the inner instrument (antahkarana) work together to shape our thoughts, feelings, and actions.\n",
    "\"\"\"\n",
    "\n",
    "wbc = Config(component_length=1)\n",
    "factory = WheelBuilder(\n",
    "    config=wbc,\n",
    "    text=text\n",
    ")"
   ],
   "outputs": [],
   "execution_count": 3
  },
  {
   "metadata": {
    "ExecuteTime": {
     "end_time": "2025-07-18T07:34:41.010394Z",
     "start_time": "2025-07-18T07:33:48.050154Z"
    }
   },
   "cell_type": "code",
   "source": [
    "wheels = await factory.build_wheel_permutations(theses=[\"Manas\", \"Chitta\"])\n",
    "for w in wheels:\n",
    "    print(w)"
   ],
   "id": "21b622d5410a34b9",
   "outputs": [
    {
     "name": "stdout",
     "output_type": "stream",
     "text": [
      "\n",
      "---\n",
      "['T1'] -> ['T2'] | Probability: 0.85\n",
      "T1 = Manas\n",
      "T2 = Chitta\n",
      "Reasoning: This cycle between Manas (sensory mind) and Chitta (memory/subconscious) represents a fundamental cognitive process in the Sanskrit understanding of mind. When Manas receives sensory input, it processes this information and passes it to Chitta for storage. Later, when similar stimuli appear, Chitta provides stored impressions and conditioning back to Manas, influencing how new sensory information is perceived and processed. This creates a continuous feedback loop where present perception is shaped by past experiences, and new experiences contribute to the repository of impressions that will inform future perceptions.\n",
      "Argumentation: This cycle is particularly applicable in learning contexts, meditation practices, and therapeutic settings. In learning, new information (processed by Manas) is stored in memory (Chitta) and then recalled when needed. In meditation, practitioners often observe how sensory perceptions trigger memories and conditioning. In therapy, understanding how past experiences shape current perceptions can help break negative thought patterns. This cycle represents the continuous interplay between immediate perception and accumulated experience that shapes our moment-to-moment experience of reality.\n",
      "---\n",
      "\n",
      "---\n",
      "['T1'] -> ['T2'] -> ['A1'] -> ['A2'] | Probability: 0.8\n",
      "T1 = Manas\n",
      "T2 = Chitta\n",
      "A1 = Buddhi\n",
      "A2 = Ahamkara\n",
      "Reasoning: This cycle represents the natural flow of mental processes in consciousness: First, Manas receives sensory input from the external world. This input is then stored in Chitta (memory/subconscious). The stored impressions are then processed by Buddhi (intellect) which makes discriminative judgments. This intellectual processing strengthens Ahamkara (ego/identity) as the person develops a sense of self in relation to these processed experiences. Finally, this reinforced sense of self influences how new sensory data is received by Manas, completing the cycle. This sequence follows the natural progression of information processing in consciousness.\n",
      "Argumentation: This cycle is most applicable in learning scenarios, personal development, and spiritual growth contexts. It's particularly useful for understanding how we form identities based on experiences. In meditation practices, practitioners often observe this sequence as they witness how sensory perceptions become memories, how those memories inform judgment, how judgment shapes identity, and how identity filters new perceptions. This sequence is also relevant in educational settings, explaining how students integrate new information into their knowledge base and self-concept.\n",
      "---\n",
      "T1-  Overwhelm    T2-  Conditioning\n",
      "T1   Manas        T2   Chitta\n",
      "T1+  Receptivity  T2+  Wisdom\n",
      "A1+  Discernment  A2+  Identity\n",
      "A1   Buddhi       A2   Ahamkara\n",
      "A1-  Rigidity     A2-  Attachment\n",
      "---\n",
      "\n",
      "---\n",
      "\n",
      "\n",
      "---\n",
      "['T1'] -> ['T2'] | Probability: 0.85\n",
      "T1 = Manas\n",
      "T2 = Chitta\n",
      "Reasoning: This cycle between Manas (sensory mind) and Chitta (memory/subconscious) represents a fundamental cognitive process in the Sanskrit understanding of mind. When Manas receives sensory input, it processes this information and passes it to Chitta for storage. Later, when similar stimuli appear, Chitta provides stored impressions and conditioning back to Manas, influencing how new sensory information is perceived and processed. This creates a continuous feedback loop where present perception is shaped by past experiences, and new experiences contribute to the repository of impressions that will inform future perceptions.\n",
      "Argumentation: This cycle is particularly applicable in learning contexts, meditation practices, and therapeutic settings. In learning, new information (processed by Manas) is stored in memory (Chitta) and then recalled when needed. In meditation, practitioners often observe how sensory perceptions trigger memories and conditioning. In therapy, understanding how past experiences shape current perceptions can help break negative thought patterns. This cycle represents the continuous interplay between immediate perception and accumulated experience that shapes our moment-to-moment experience of reality.\n",
      "---\n",
      "\n",
      "---\n",
      "['T1'] -> ['A2'] -> ['A1'] -> ['T2'] | Probability: 0.6\n",
      "T1 = Manas\n",
      "A2 = Ahamkara\n",
      "A1 = Buddhi\n",
      "T2 = Chitta\n",
      "Reasoning: In this alternate cycle, Manas first receives sensory input which directly activates Ahamkara (ego/identity) as an immediate reaction to the stimulus. This triggered ego then engages Buddhi (intellect) to rationalize or justify the ego's response. The intellectual conclusions are then stored in Chitta (memory) for future reference, which then influences how Manas perceives new information. This represents a more reactive pattern where ego leads the process rather than following intellectual discrimination. This sequence is more common in emotional or threat-response scenarios where identity is immediately implicated before careful analysis occurs.\n",
      "Argumentation: This cycle is most applicable in high-stress situations, emotional reactions, and scenarios involving identity threat or confirmation. It explains defensive psychological mechanisms where perception immediately triggers identity concerns, which then seek intellectual justification and create memory patterns that reinforce the cycle. This pattern is relevant in understanding prejudice formation, cognitive biases, and emotional reasoning. It's useful in therapeutic contexts for addressing maladaptive thought patterns where ego-driven reactions precede rational assessment.\n",
      "---\n",
      "T1-  Overwhelm    A2-  Attachment\n",
      "T1   Manas        A2   Ahamkara\n",
      "T1+  Receptivity  A2+  Identity\n",
      "A1+  Discernment  T2+  Wisdom\n",
      "A1   Buddhi       T2   Chitta\n",
      "A1-  Rigidity     T2-  Conditioning\n",
      "---\n",
      "\n",
      "---\n",
      "\n"
     ]
    }
   ],
   "execution_count": 4
  }
 ],
 "metadata": {
  "kernelspec": {
   "display_name": "Python 3",
   "language": "python",
   "name": "python3"
  },
  "language_info": {
   "codemirror_mode": {
    "name": "ipython",
    "version": 2
   },
   "file_extension": ".py",
   "mimetype": "text/x-python",
   "name": "python",
   "nbconvert_exporter": "python",
   "pygments_lexer": "ipython2",
   "version": "2.7.6"
  }
 },
 "nbformat": 4,
 "nbformat_minor": 5
}
