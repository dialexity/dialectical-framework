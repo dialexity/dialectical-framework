{
 "cells": [
  {
   "metadata": {
    "ExecuteTime": {
     "end_time": "2025-08-22T13:02:05.929913Z",
     "start_time": "2025-08-22T13:02:01.365834Z"
    }
   },
   "cell_type": "code",
   "source": [
    "from dialectical_framework.dialectical_reasoning import DialecticalReasoning\n",
    "from dialectical_framework.synthesist.wheel_builder import WheelBuilder\n",
    "from dialectical_framework.settings import Settings\n",
    "\n",
    "text  = \"\"\"\n",
    "In Sanskrit, the term \"four minds\" (or more accurately, four aspects of the inner instrument, antahkarana) refers to Manas, Buddhi, Ahamkara, and Chitta. While not four distinct minds, they are considered the four functions of the inner instrument that contribute to our perception and experience.\n",
    "Here's a breakdown:\n",
    "Manas (मनस्):\n",
    "This is often translated as the sensory mind, the part that receives and processes information from the senses. It's where initial perceptions and impressions are formed.\n",
    "Buddhi (बुद्धि):\n",
    "This refers to the intellect, wisdom, or discriminative faculty. It's the aspect of mind that analyzes, judges, and makes decisions based on the information received by Manas.\n",
    "Ahamkara (अहंकार):\n",
    "This is the ego or the sense of \"I-ness\" or individuality. It creates the sense of a separate self and is responsible for identifying with thoughts, feelings, and experiences.\n",
    "Chitta (चित्त):\n",
    "This is the memory or subconscious mind, where impressions, experiences, and past conditioning are stored. It acts as a repository for all that has been perceived and experienced.\n",
    "Together, these four aspects of the inner instrument (antahkarana) work together to shape our thoughts, feelings, and actions.\n",
    "\"\"\"\n",
    "dr = DialecticalReasoning()\n",
    "wb = DialecticalReasoning.create_wheel_builder(text=text)\n",
    "wb.settings.component_length = 1"
   ],
   "id": "a04ebfeacdc540db",
   "outputs": [],
   "execution_count": 1
  },
  {
   "metadata": {
    "ExecuteTime": {
     "end_time": "2025-08-22T13:02:49.885602Z",
     "start_time": "2025-08-22T13:02:05.939981Z"
    }
   },
   "cell_type": "code",
   "source": [
    "wheels = await wb.build_wheel_permutations(theses=[\"Manas\", \"Chitta\"])\n",
    "for w in wheels:\n",
    "    print(w)"
   ],
   "id": "c9ca219acff13c0a",
   "outputs": [
    {
     "name": "stdout",
     "output_type": "stream",
     "text": [
      "\n",
      "---\n",
      "['T1'] -> ['T2'] | Probability: 0.85\n",
      "T1 = Manas\n",
      "T2 = Chitta\n",
      "Reasoning: This cycle between Manas (mind/perception) and Chitta (consciousness/awareness) represents a fundamental relationship in many Eastern philosophical traditions. Manas acts as the sensory-processing aspect that perceives external stimuli, which then influences Chitta, the deeper consciousness or awareness. In turn, the state of Chitta affects how Manas perceives and interprets subsequent experiences. This creates a continuous feedback loop where perception shapes consciousness and consciousness shapes perception. This cycle is well-documented in various meditation practices and mindfulness traditions where practitioners observe how their perceptual faculties (Manas) influence their consciousness (Chitta) and vice versa.\n",
      "Argumentation: This cycle is most applicable in contexts of meditation, mindfulness practices, psychological development, and self-awareness training. It's particularly useful for understanding how perception and consciousness interact in cognitive processes, explaining why two people may react differently to the same stimulus based on their state of consciousness. This cycle is also relevant in therapeutic settings where changing either perception patterns or states of consciousness can break negative thought cycles. In spiritual practices across various Eastern traditions (particularly Hindu and Buddhist psychology), this cycle forms the foundation for practices aimed at purifying perception and elevating consciousness.\n",
      "---\n",
      "\n",
      "---\n",
      "['T1'] -> ['T2'] -> ['A1'] -> ['A2'] | Probability: 0.7\n",
      "T1 = Manas\n",
      "T2 = Chitta\n",
      "A1 = Inertia\n",
      "A2 = Avidya\n",
      "Reasoning: This cycle represents a common pattern in human cognition within Eastern philosophical frameworks. Manas (mind/sensory processing) naturally flows into Chitta (consciousness/memory), as our sensory experiences become stored memories and conscious awareness. This consciousness, when not properly directed, tends to create Inertia (resistance to change/habitual patterns). This inertia then reinforces Avidya (ignorance/lack of true understanding), as we fail to see beyond our habitual patterns. Finally, this ignorance cycles back to influence Manas, as our perception and sensory processing becomes filtered through our ignorance, continuing the cycle.\n",
      "Argumentation: This cycle is most applicable in contexts of spiritual growth, meditation practices, and psychological development where understanding the relationship between mind, consciousness, inertia and ignorance is crucial. It's particularly useful in explaining why people remain stuck in negative thought patterns despite attempts to change, and provides a framework for intervention at any point in the cycle. In therapeutic settings, recognizing how the mind feeds consciousness, which creates inertia leading to ignorance that then distorts perception, offers multiple entry points for breaking negative cycles.\n",
      "---\n",
      "T1-  Overthinking  T2-  Delusion\n",
      "T1   Manas         T2   Chitta\n",
      "T1+  Wisdom        T2+  Clarity\n",
      "A1+  Peace         A2+  Humility\n",
      "A1   Inertia       A2   Avidya\n",
      "A1-  Ignorance     A2-  Confusion\n",
      "---\n",
      "\n",
      "---\n",
      "\n",
      "\n",
      "---\n",
      "['T1'] -> ['T2'] | Probability: 0.85\n",
      "T1 = Manas\n",
      "T2 = Chitta\n",
      "Reasoning: This cycle between Manas (mind/perception) and Chitta (consciousness/awareness) represents a fundamental relationship in many Eastern philosophical traditions. Manas acts as the sensory-processing aspect that perceives external stimuli, which then influences Chitta, the deeper consciousness or awareness. In turn, the state of Chitta affects how Manas perceives and interprets subsequent experiences. This creates a continuous feedback loop where perception shapes consciousness and consciousness shapes perception. This cycle is well-documented in various meditation practices and mindfulness traditions where practitioners observe how their perceptual faculties (Manas) influence their consciousness (Chitta) and vice versa.\n",
      "Argumentation: This cycle is most applicable in contexts of meditation, mindfulness practices, psychological development, and self-awareness training. It's particularly useful for understanding how perception and consciousness interact in cognitive processes, explaining why two people may react differently to the same stimulus based on their state of consciousness. This cycle is also relevant in therapeutic settings where changing either perception patterns or states of consciousness can break negative thought cycles. In spiritual practices across various Eastern traditions (particularly Hindu and Buddhist psychology), this cycle forms the foundation for practices aimed at purifying perception and elevating consciousness.\n",
      "---\n",
      "\n",
      "---\n",
      "['T1'] -> ['A2'] -> ['A1'] -> ['T2'] | Probability: 0.4\n",
      "T1 = Manas\n",
      "A2 = Avidya\n",
      "A1 = Inertia\n",
      "T2 = Chitta\n",
      "Reasoning: This alternative cycle suggests that Manas (mind/sensory processing) directly contributes to Avidya (ignorance), perhaps through misperception or selective attention. This ignorance then creates Inertia (resistance to change) as one becomes fixed in false understanding. This inertia then affects Chitta (consciousness/memory), creating distorted memory patterns or limited awareness. Finally, this altered consciousness cycles back to influence the mind's processing. While possible, this sequence seems less aligned with traditional understandings of these concepts and represents a less natural progression of cause and effect.\n",
      "Argumentation: This cycle might be applicable in contexts where external manipulation or indoctrination is present - where sensory inputs are deliberately crafted to create ignorance (propaganda, misinformation), which then creates resistance to alternative viewpoints (inertia), affecting one's overall consciousness, and finally returning to influence how new information is processed by the mind. It could be useful in analyzing cult dynamics, political radicalization, or media influence operations, but represents a less universal or naturally occurring pattern than the first cycle.\n",
      "---\n",
      "T1-  Overthinking  A2-  Confusion\n",
      "T1   Manas         A2   Avidya\n",
      "T1+  Wisdom        A2+  Humility\n",
      "A1+  Peace         T2+  Clarity\n",
      "A1   Inertia       T2   Chitta\n",
      "A1-  Ignorance     T2-  Delusion\n",
      "---\n",
      "\n",
      "---\n",
      "\n"
     ]
    }
   ],
   "execution_count": 2
  }
 ],
 "metadata": {
  "kernelspec": {
   "display_name": "Python 3",
   "language": "python",
   "name": "python3"
  },
  "language_info": {
   "codemirror_mode": {
    "name": "ipython",
    "version": 2
   },
   "file_extension": ".py",
   "mimetype": "text/x-python",
   "name": "python",
   "nbconvert_exporter": "python",
   "pygments_lexer": "ipython2",
   "version": "2.7.6"
  }
 },
 "nbformat": 4,
 "nbformat_minor": 5
}
