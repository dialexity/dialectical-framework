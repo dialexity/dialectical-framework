{
 "cells": [
  {
   "metadata": {
    "ExecuteTime": {
     "end_time": "2025-08-22T12:59:13.663608Z",
     "start_time": "2025-08-22T12:59:09.170700Z"
    }
   },
   "cell_type": "code",
   "source": [
    "from dialectical_framework.analyst.decorator_action_reflection import DecoratorActionReflection\n",
    "from dialectical_framework.analyst.decorator_reciprocal_solution import DecoratorReciprocalSolution\n",
    "from dialectical_framework.dialectical_reasoning import DialecticalReasoning\n",
    "\n",
    "dr = DialecticalReasoning()\n",
    "\n",
    "wb = DialecticalReasoning.create_wheel_builder(text=\"Love\")\n",
    "wb.settings.component_length = 1\n",
    "wb = DecoratorReciprocalSolution(DecoratorActionReflection(wb))"
   ],
   "id": "8912e6a0eca68eb7",
   "outputs": [],
   "execution_count": 1
  },
  {
   "metadata": {
    "ExecuteTime": {
     "end_time": "2025-08-22T12:59:37.181041Z",
     "start_time": "2025-08-22T12:59:13.672407Z"
    }
   },
   "cell_type": "code",
   "source": [
    "wheels = await wb.build_wheel_permutations(theses=[\"Love\"])\n",
    "for w in wheels:\n",
    "    await wb.calculate_transitions(w)\n",
    "    print(w)"
   ],
   "id": "ccc0bb639eb7c044",
   "outputs": [
    {
     "name": "stdout",
     "output_type": "stream",
     "text": [
      "\n",
      "---\n",
      "['T'] | Probability: 1.0\n",
      "T = Love\n",
      "Reasoning: \n",
      "Argumentation: \n",
      "---\n",
      "\n",
      "---\n",
      "['T'] -> ['A'] | Probability: 1.0\n",
      "T = Love\n",
      "A = Indifference\n",
      "Reasoning: \n",
      "Argumentation: \n",
      "---\n",
      "T-  Obsession\n",
      "T   Love\n",
      "T+  Connection\n",
      "A+  Freedom\n",
      "A   Indifference\n",
      "A-  Isolation\n",
      "---\n",
      "['T'] -> ['A']\n",
      "T → A\n",
      "Summary: N/A\n",
      "\n",
      "RECIPROCAL SOLUTION:\n",
      "Problem: In relationships, people struggle with the tension between deep emotional engagement (Love) and maintaining personal boundaries (Indifference). When love becomes obsessive, freedom is lost; when indifference leads to isolation, meaningful connection is sacrificed.\n",
      "Linear action: Practice mindful attachment through establishing healthy boundaries and self-awareness techniques. This approach transforms obsessive tendencies into a sense of personal freedom by encouraging emotional investment without sacrificing individual identity. Regular reflection on the nature of one's feelings, creating space for personal growth, and respecting the autonomy of the loved one allows for love that empowers rather than constrains.\n",
      "Dialectical reflection: Foster intentional vulnerability through shared experiences and open communication. This approach transforms isolation into genuine connection by creating opportunities for meaningful interaction without demanding constant proximity or attention. Cultivating activities that deepen mutual understanding, practicing active listening, and developing emotional intelligence allows moments of separation to strengthen rather than threaten the relationship's foundation.\n",
      "\n",
      "ACTION REFLECTION:\n",
      "Ac- = Withdrawal\n",
      "Explanation: Withdrawal is determined as the negative transformation that changes Connection/Love into Isolation, as pulling away from emotional bonds leads to separation.\n",
      "\n",
      "Ac = Detachment\n",
      "Explanation: Detachment is identified as the process that transforms Love into Indifference, as emotional disconnection leads to the absence of feelings.\n",
      "\n",
      "Ac+ = Independence\n",
      "Explanation: Independence is derived as the positive transformation that moves from Obsession/Love toward Freedom, as unhealthy attachment is released in favor of personal autonomy.\n",
      "\n",
      "Re+ = Bonding\n",
      "Explanation: Bonding is derived as the positive transformation that moves from Isolation/Indifference toward Connection, as meaningful relationships are formed to overcome separation.\n",
      "\n",
      "Re = Attachment\n",
      "Explanation: Attachment is identified as the process that transforms Indifference into Love, as forming emotional bonds overcomes the absence of feelings.\n",
      "\n",
      "Re- = Clinging\n",
      "Explanation: Clinging is determined as the negative transformation that changes Freedom/Indifference into Obsession, as healthy autonomy is sacrificed for unhealthy dependency.\n",
      "A → T\n",
      "Summary: N/A\n",
      "\n",
      "RECIPROCAL SOLUTION:\n",
      "Problem: In relationships, people struggle with the tension between deep emotional engagement (Love) and maintaining personal boundaries (Indifference). When love becomes obsessive, freedom is lost; when indifference leads to isolation, meaningful connection is sacrificed.\n",
      "Linear action: Practice mindful attachment through establishing healthy boundaries and self-awareness techniques. This approach transforms obsessive tendencies into a sense of personal freedom by encouraging emotional investment without sacrificing individual identity. Regular reflection on the nature of one's feelings, creating space for personal growth, and respecting the autonomy of the loved one allows for love that empowers rather than constrains.\n",
      "Dialectical reflection: Foster intentional vulnerability through shared experiences and open communication. This approach transforms isolation into genuine connection by creating opportunities for meaningful interaction without demanding constant proximity or attention. Cultivating activities that deepen mutual understanding, practicing active listening, and developing emotional intelligence allows moments of separation to strengthen rather than threaten the relationship's foundation.\n",
      "\n",
      "ACTION REFLECTION:\n",
      "Ac- = Withdrawal\n",
      "Explanation: Withdrawal is determined as the negative transformation that changes Connection/Love into Isolation, as pulling away from emotional bonds leads to separation.\n",
      "\n",
      "Ac = Detachment\n",
      "Explanation: Detachment is identified as the process that transforms Love into Indifference, as emotional disconnection leads to the absence of feelings.\n",
      "\n",
      "Ac+ = Independence\n",
      "Explanation: Independence is derived as the positive transformation that moves from Obsession/Love toward Freedom, as unhealthy attachment is released in favor of personal autonomy.\n",
      "\n",
      "Re+ = Bonding\n",
      "Explanation: Bonding is derived as the positive transformation that moves from Isolation/Indifference toward Connection, as meaningful relationships are formed to overcome separation.\n",
      "\n",
      "Re = Attachment\n",
      "Explanation: Attachment is identified as the process that transforms Indifference into Love, as forming emotional bonds overcomes the absence of feelings.\n",
      "\n",
      "Re- = Clinging\n",
      "Explanation: Clinging is determined as the negative transformation that changes Freedom/Indifference into Obsession, as healthy autonomy is sacrificed for unhealthy dependency.\n",
      "---\n",
      "\n"
     ]
    }
   ],
   "execution_count": 2
  }
 ],
 "metadata": {
  "kernelspec": {
   "display_name": "Python 3",
   "language": "python",
   "name": "python3"
  },
  "language_info": {
   "codemirror_mode": {
    "name": "ipython",
    "version": 2
   },
   "file_extension": ".py",
   "mimetype": "text/x-python",
   "name": "python",
   "nbconvert_exporter": "python",
   "pygments_lexer": "ipython2",
   "version": "2.7.6"
  }
 },
 "nbformat": 4,
 "nbformat_minor": 5
}
