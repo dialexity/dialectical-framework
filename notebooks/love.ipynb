{
 "cells": [
  {
   "cell_type": "code",
   "id": "initial_id",
   "metadata": {
    "collapsed": true,
    "ExecuteTime": {
     "end_time": "2025-07-29T04:32:53.641625Z",
     "start_time": "2025-07-29T04:32:53.605122Z"
    }
   },
   "source": [
    "from dialectical_framework.analyst.decorator_action_reflection import DecoratorActionReflection\n",
    "from dialectical_framework.analyst.decorator_reciprocal_solution import DecoratorReciprocalSolution\n",
    "from dialectical_framework.synthesist.factories.wheel_builder import WheelBuilder\n",
    "from dialectical_framework.synthesist.factories.config_wheel_builder import ConfigWheelBuilder\n",
    "\n",
    "wbc = ConfigWheelBuilder(component_length=1)\n",
    "factory = WheelBuilder(\n",
    "    config=wbc,\n",
    ")\n",
    "factory = DecoratorReciprocalSolution(DecoratorActionReflection(factory))"
   ],
   "outputs": [],
   "execution_count": 13
  },
  {
   "metadata": {
    "ExecuteTime": {
     "end_time": "2025-07-29T04:33:19.071568Z",
     "start_time": "2025-07-29T04:32:53.695554Z"
    }
   },
   "cell_type": "code",
   "source": [
    "wheels = await factory.build_wheel_permutations(theses=[\"Love\"])\n",
    "for w in wheels:\n",
    "    await factory.calculate_transitions(w)\n",
    "    print(w)"
   ],
   "id": "21b622d5410a34b9",
   "outputs": [
    {
     "name": "stdout",
     "output_type": "stream",
     "text": [
      "\n",
      "---\n",
      "['T'] | Probability: 1.0\n",
      "T = Love\n",
      "Reasoning: \n",
      "Argumentation: \n",
      "---\n",
      "\n",
      "---\n",
      "['T'] -> ['A'] | Probability: 1.0\n",
      "T = Love\n",
      "A = Indifference\n",
      "Reasoning: \n",
      "Argumentation: \n",
      "---\n",
      "T-  Fixation\n",
      "T   Love\n",
      "T+  Happiness\n",
      "A+  Objectivity\n",
      "A   Indifference\n",
      "A-  Misery\n",
      "---\n",
      "['T'] -> ['A']\n",
      "T → A\n",
      "Summary: N/A\n",
      "\n",
      "RECIPROCAL SOLUTION:\n",
      "Problem: The emotional tension between fixation and indifference is causing people to oscillate between unhealthy attachment and emotional emptiness, neither of which leads to genuine fulfillment.\n",
      "Linear action: To transform fixation into objectivity, one must practice emotional regulation through mindful detachment. This involves recognizing when emotional attachments become excessive and consciously creating psychological space to observe one's feelings without being consumed by them. By establishing healthy emotional boundaries and cultivating self-awareness, individuals can maintain connection while gaining the clarity and perspective that objectivity provides.\n",
      "Dialectical reflection: To transform misery into happiness, one must engage in meaningful connection through compassionate presence. This requires actively cultivating relationships based on mutual care and authentic engagement rather than remaining indifferent. By investing emotional energy in genuine connections while maintaining healthy boundaries, individuals can experience the joy and fulfillment that comes from loving connections without falling into unhealthy fixation.\n",
      "\n",
      "ACTION REFLECTION:\n",
      "Ac- = Rejection\n",
      "Explanation: Rejection is established as the negative transformation process that converts Happiness or Love into Misery through the harmful dismissal of emotional connections.\n",
      "\n",
      "Ac = Detachment\n",
      "Explanation: Detachment is identified as the process that transforms Love into Indifference, representing the deliberate disconnection from emotional bonds.\n",
      "\n",
      "Ac+ = Reason\n",
      "Explanation: Reason is determined to be the positive aspect of detachment that transforms Fixation or Love into Objectivity by replacing emotional attachment with rational assessment.\n",
      "\n",
      "Re+ = Connection\n",
      "Explanation: Connection is determined to be the positive process that transforms Misery or Indifference into Happiness by establishing meaningful emotional bonds.\n",
      "\n",
      "Re = Attachment\n",
      "Explanation: Attachment is identified as the process that transforms Indifference into Love, representing the formation of emotional bonds.\n",
      "\n",
      "Re- = Obsession\n",
      "Explanation: Obsession is established as the negative process that transforms Objectivity or Indifference into Fixation through excessive emotional attachment without rational boundaries.\n",
      "A → T\n",
      "Summary: N/A\n",
      "\n",
      "RECIPROCAL SOLUTION:\n",
      "Problem: The emotional tension between fixation and indifference is causing people to oscillate between unhealthy attachment and emotional emptiness, neither of which leads to genuine fulfillment.\n",
      "Linear action: To transform fixation into objectivity, one must practice emotional regulation through mindful detachment. This involves recognizing when emotional attachments become excessive and consciously creating psychological space to observe one's feelings without being consumed by them. By establishing healthy emotional boundaries and cultivating self-awareness, individuals can maintain connection while gaining the clarity and perspective that objectivity provides.\n",
      "Dialectical reflection: To transform misery into happiness, one must engage in meaningful connection through compassionate presence. This requires actively cultivating relationships based on mutual care and authentic engagement rather than remaining indifferent. By investing emotional energy in genuine connections while maintaining healthy boundaries, individuals can experience the joy and fulfillment that comes from loving connections without falling into unhealthy fixation.\n",
      "\n",
      "ACTION REFLECTION:\n",
      "Ac- = Rejection\n",
      "Explanation: Rejection is established as the negative transformation process that converts Happiness or Love into Misery through the harmful dismissal of emotional connections.\n",
      "\n",
      "Ac = Detachment\n",
      "Explanation: Detachment is identified as the process that transforms Love into Indifference, representing the deliberate disconnection from emotional bonds.\n",
      "\n",
      "Ac+ = Reason\n",
      "Explanation: Reason is determined to be the positive aspect of detachment that transforms Fixation or Love into Objectivity by replacing emotional attachment with rational assessment.\n",
      "\n",
      "Re+ = Connection\n",
      "Explanation: Connection is determined to be the positive process that transforms Misery or Indifference into Happiness by establishing meaningful emotional bonds.\n",
      "\n",
      "Re = Attachment\n",
      "Explanation: Attachment is identified as the process that transforms Indifference into Love, representing the formation of emotional bonds.\n",
      "\n",
      "Re- = Obsession\n",
      "Explanation: Obsession is established as the negative process that transforms Objectivity or Indifference into Fixation through excessive emotional attachment without rational boundaries.\n",
      "---\n",
      "\n"
     ]
    }
   ],
   "execution_count": 14
  }
 ],
 "metadata": {
  "kernelspec": {
   "display_name": "Python 3",
   "language": "python",
   "name": "python3"
  },
  "language_info": {
   "codemirror_mode": {
    "name": "ipython",
    "version": 2
   },
   "file_extension": ".py",
   "mimetype": "text/x-python",
   "name": "python",
   "nbconvert_exporter": "python",
   "pygments_lexer": "ipython2",
   "version": "2.7.6"
  }
 },
 "nbformat": 4,
 "nbformat_minor": 5
}
